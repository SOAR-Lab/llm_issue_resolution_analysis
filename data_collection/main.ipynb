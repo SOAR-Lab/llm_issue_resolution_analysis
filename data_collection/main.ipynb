{
 "cells": [
  {
   "cell_type": "code",
   "execution_count": null,
   "metadata": {},
   "outputs": [],
   "source": [
    "import pandas as pd\n",
    "import requests\n",
    "from datetime import datetime, timedelta"
   ]
  },
  {
   "cell_type": "markdown",
   "metadata": {},
   "source": [
    "## Scrape GitHub Issues\n",
    "Looking for GPT links inside issue threads, accross all GitHub starting from 2023 to April 2024"
   ]
  },
  {
   "cell_type": "code",
   "execution_count": null,
   "metadata": {},
   "outputs": [],
   "source": [
    "def search_github_issues(search_string, token, start_date, end_date):\n",
    "    url = \"https://api.github.com/search/issues\"\n",
    "    headers = {\n",
    "        \"Authorization\": f\"token {token}\",\n",
    "        \"Accept\": \"application/vnd.github.v3+json\"\n",
    "    }\n",
    "\n",
    "    issues = []\n",
    "    page = 1\n",
    "    while True:\n",
    "        params = {\n",
    "            \"q\": f\"{search_string} created:{start_date}..{end_date}\",\n",
    "            \"page\": page,\n",
    "            \"per_page\": 100\n",
    "        }\n",
    "        response = requests.get(url, headers=headers, params=params)\n",
    "        if response.status_code != 200:\n",
    "            print(\"Error occurred:\", response.json())\n",
    "            return 'Error'\n",
    "\n",
    "        results = response.json()\n",
    "        # print(results)\n",
    "        # break\n",
    "        if not results or results.get(\"items\") is None:\n",
    "            break\n",
    "\n",
    "        for issue in results[\"items\"]:\n",
    "            # Get additional info for each issue\n",
    "            labels = [label[\"name\"] for label in issue[\"labels\"]]\n",
    "            issue_details = {\n",
    "                \"title\": issue[\"title\"],\n",
    "                \"html_url\": issue[\"html_url\"],\n",
    "                \"api_url\": issue[\"url\"],\n",
    "                \"repository_url\": issue[\"repository_url\"],\n",
    "                \"comments_url\": issue['comments_url'],\n",
    "                \"state_reason\": issue['state_reason'],\n",
    "                \"state\": issue[\"state\"],\n",
    "                \"number_of_comments\": issue[\"comments\"],\n",
    "                \"body\": issue[\"body\"],\n",
    "                \"user\": issue[\"user\"][\"login\"],\n",
    "                \"labels\": labels,\n",
    "            }\n",
    "            issues.append(issue_details)\n",
    "\n",
    "        if len(results[\"items\"]) < 100:  # Check against the per_page limit\n",
    "            break\n",
    "\n",
    "        page += 1\n",
    "        # print(page)\n",
    "\n",
    "    return issues"
   ]
  },
  {
   "cell_type": "code",
   "execution_count": null,
   "metadata": {},
   "outputs": [],
   "source": [
    "# Search string\n",
    "search_string_gpt = \"chat.openai.com/share\"\n",
    "token = \"#\"\n",
    "\n",
    "# Your GitHub personal access token\n",
    "github_token = token\n",
    "\n",
    "# Date ranges to split the search\n",
    "start_date = datetime(2023, 1, 1)\n",
    "end_date = datetime(2024, 4, 30)\n",
    "delta = timedelta(days=1)  # Split into 30-day intervals\n",
    "\n",
    "trend_of_sharing_gpt = {}\n",
    "trend_of_sharing_stackoverflow = {}\n",
    "\n",
    "# Retrieve the issues for each date range\n",
    "issues = []\n",
    "while start_date <= end_date:\n",
    "    next_date = start_date + delta\n",
    "    if next_date > end_date:\n",
    "        next_date = end_date\n",
    "    \n",
    "    # Format dates in ISO format\n",
    "    start_date_str = start_date.strftime(\"%Y-%m-%d\")\n",
    "    next_date_str = next_date.strftime(\"%Y-%m-%d\")\n",
    "\n",
    "    # Search for issues within the current date range\n",
    "    print(start_date_str + ' ' + next_date_str)\n",
    "    issues_in_range = search_github_issues(search_string_gpt, github_token, start_date_str, next_date_str)\n",
    "    if issues_in_range == 'Error':\n",
    "        print(start_date)\n",
    "        break\n",
    "    trend_of_sharing_stackoverflow[start_date_str + ' ' + next_date_str] = len(issues_in_range)\n",
    "    issues.extend(issues_in_range)\n",
    "\n",
    "    start_date = next_date"
   ]
  }
 ],
 "metadata": {
  "kernelspec": {
   "display_name": "base",
   "language": "python",
   "name": "python3"
  },
  "language_info": {
   "name": "python",
   "version": "3.10.9"
  }
 },
 "nbformat": 4,
 "nbformat_minor": 2
}
